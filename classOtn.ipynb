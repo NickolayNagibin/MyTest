{
  "nbformat": 4,
  "nbformat_minor": 0,
  "metadata": {
    "colab": {
      "provenance": [],
      "toc_visible": true,
      "authorship_tag": "ABX9TyOM9AvpfYK6ECpaHP41PVAV"
    },
    "kernelspec": {
      "name": "python3",
      "display_name": "Python 3"
    },
    "language_info": {
      "name": "python"
    }
  },
  "cells": [
    {
      "cell_type": "code",
      "execution_count": null,
      "metadata": {
        "id": "7GbE5ufVT5C3"
      },
      "outputs": [],
      "source": [
        "class otn():\n",
        "  def __init__ (self, f, A, B):\n",
        "    import numpy as np\n",
        "    self.A = A\n",
        "    self.B = B\n",
        "    if type(f) != type(np.eye(2)):\n",
        "      matrix = []\n",
        "      for x in A:\n",
        "        matrix.append([])\n",
        "        for y in B:\n",
        "          matrix[-1].append(int(f(x, y)))\n",
        "      self.np = np.array(matrix)\n",
        "    else:\n",
        "      self.np = f\n",
        "\n",
        "  def __add__ (self, other):\n",
        "    q = (self.np+other.np).astype(bool).astype(int)\n",
        "    return otn(q, self.A, self.B)\n",
        "\n",
        "  def __abs__ (self):\n",
        "    return np.sum(self.np)\n",
        "\n",
        "  def __eq__ (self, other):\n",
        "    return (self.A == other.A) and (self.B==other.B) and (self.np==other.np).all()\n",
        "\n",
        "  def __mul__ (self, other):\n",
        "    return otn(np.multiply(self.np, other.np), self.A, self.B)\n",
        "\n",
        "  def dot(self, other):\n",
        "    return otn(np.dot(self.np, other.np).astype(bool).astype(int), self.A, other.B)\n",
        "\n",
        "  def obrat(self):\n",
        "    return otn(np.transpose(self.np), self.B, self.A)"
      ]
    }
  ]
}